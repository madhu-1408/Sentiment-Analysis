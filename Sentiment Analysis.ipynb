{
 "cells": [
  {
   "cell_type": "markdown",
   "metadata": {},
   "source": [
    "# Sentiment Analysis Using LSTM"
   ]
  },
  {
   "cell_type": "markdown",
   "metadata": {},
   "source": [
    "**Import Necessary Libraries**"
   ]
  },
  {
   "cell_type": "code",
   "execution_count": 2,
   "metadata": {
    "execution": {
     "iopub.execute_input": "2021-10-21T10:19:28.097619Z",
     "iopub.status.busy": "2021-10-21T10:19:28.097348Z",
     "iopub.status.idle": "2021-10-21T10:19:28.105173Z",
     "shell.execute_reply": "2021-10-21T10:19:28.103236Z",
     "shell.execute_reply.started": "2021-10-21T10:19:28.097588Z"
    }
   },
   "outputs": [],
   "source": [
    "import numpy as np\n",
    "import pandas as pd\n",
    "import re\n",
    "import nltk\n",
    "from nltk.corpus import stopwords\n",
    "import tensorflow\n",
    "from tensorflow.keras.preprocessing.sequence import pad_sequences\n",
    "from tensorflow.keras.preprocessing.text import Tokenizer\n",
    "from tensorflow.keras.models import Sequential\n",
    "from tensorflow.keras.layers import Embedding, LSTM, Dense\n",
    "from nltk import PorterStemmer\n",
    "from nltk.tokenize import RegexpTokenizer"
   ]
  },
  {
   "cell_type": "markdown",
   "metadata": {},
   "source": [
    "# Load The Data"
   ]
  },
  {
   "cell_type": "code",
   "execution_count": 3,
   "metadata": {
    "execution": {
     "iopub.execute_input": "2021-10-21T10:08:07.437861Z",
     "iopub.status.busy": "2021-10-21T10:08:07.437395Z",
     "iopub.status.idle": "2021-10-21T10:08:08.975652Z",
     "shell.execute_reply": "2021-10-21T10:08:08.974826Z",
     "shell.execute_reply.started": "2021-10-21T10:08:07.437812Z"
    }
   },
   "outputs": [],
   "source": [
    "df = pd.read_csv('Amazon_Unlocked_Mobile.csv')"
   ]
  },
  {
   "cell_type": "code",
   "execution_count": 4,
   "metadata": {
    "execution": {
     "iopub.execute_input": "2021-10-21T10:08:08.977531Z",
     "iopub.status.busy": "2021-10-21T10:08:08.977225Z",
     "iopub.status.idle": "2021-10-21T10:08:08.997921Z",
     "shell.execute_reply": "2021-10-21T10:08:08.997160Z",
     "shell.execute_reply.started": "2021-10-21T10:08:08.977490Z"
    }
   },
   "outputs": [
    {
     "data": {
      "text/html": [
       "<div>\n",
       "<style scoped>\n",
       "    .dataframe tbody tr th:only-of-type {\n",
       "        vertical-align: middle;\n",
       "    }\n",
       "\n",
       "    .dataframe tbody tr th {\n",
       "        vertical-align: top;\n",
       "    }\n",
       "\n",
       "    .dataframe thead th {\n",
       "        text-align: right;\n",
       "    }\n",
       "</style>\n",
       "<table border=\"1\" class=\"dataframe\">\n",
       "  <thead>\n",
       "    <tr style=\"text-align: right;\">\n",
       "      <th></th>\n",
       "      <th>Product Name</th>\n",
       "      <th>Brand Name</th>\n",
       "      <th>Price</th>\n",
       "      <th>Rating</th>\n",
       "      <th>Reviews</th>\n",
       "      <th>Review Votes</th>\n",
       "    </tr>\n",
       "  </thead>\n",
       "  <tbody>\n",
       "    <tr>\n",
       "      <th>0</th>\n",
       "      <td>\"CLEAR CLEAN ESN\" Sprint EPIC 4G Galaxy SPH-D7...</td>\n",
       "      <td>Samsung</td>\n",
       "      <td>199.99</td>\n",
       "      <td>5</td>\n",
       "      <td>I feel so LUCKY to have found this used (phone...</td>\n",
       "      <td>1.0</td>\n",
       "    </tr>\n",
       "    <tr>\n",
       "      <th>1</th>\n",
       "      <td>\"CLEAR CLEAN ESN\" Sprint EPIC 4G Galaxy SPH-D7...</td>\n",
       "      <td>Samsung</td>\n",
       "      <td>199.99</td>\n",
       "      <td>4</td>\n",
       "      <td>nice phone, nice up grade from my pantach revu...</td>\n",
       "      <td>0.0</td>\n",
       "    </tr>\n",
       "    <tr>\n",
       "      <th>2</th>\n",
       "      <td>\"CLEAR CLEAN ESN\" Sprint EPIC 4G Galaxy SPH-D7...</td>\n",
       "      <td>Samsung</td>\n",
       "      <td>199.99</td>\n",
       "      <td>5</td>\n",
       "      <td>Very pleased</td>\n",
       "      <td>0.0</td>\n",
       "    </tr>\n",
       "    <tr>\n",
       "      <th>3</th>\n",
       "      <td>\"CLEAR CLEAN ESN\" Sprint EPIC 4G Galaxy SPH-D7...</td>\n",
       "      <td>Samsung</td>\n",
       "      <td>199.99</td>\n",
       "      <td>4</td>\n",
       "      <td>It works good but it goes slow sometimes but i...</td>\n",
       "      <td>0.0</td>\n",
       "    </tr>\n",
       "    <tr>\n",
       "      <th>4</th>\n",
       "      <td>\"CLEAR CLEAN ESN\" Sprint EPIC 4G Galaxy SPH-D7...</td>\n",
       "      <td>Samsung</td>\n",
       "      <td>199.99</td>\n",
       "      <td>4</td>\n",
       "      <td>Great phone to replace my lost phone. The only...</td>\n",
       "      <td>0.0</td>\n",
       "    </tr>\n",
       "  </tbody>\n",
       "</table>\n",
       "</div>"
      ],
      "text/plain": [
       "                                        Product Name Brand Name   Price  \\\n",
       "0  \"CLEAR CLEAN ESN\" Sprint EPIC 4G Galaxy SPH-D7...    Samsung  199.99   \n",
       "1  \"CLEAR CLEAN ESN\" Sprint EPIC 4G Galaxy SPH-D7...    Samsung  199.99   \n",
       "2  \"CLEAR CLEAN ESN\" Sprint EPIC 4G Galaxy SPH-D7...    Samsung  199.99   \n",
       "3  \"CLEAR CLEAN ESN\" Sprint EPIC 4G Galaxy SPH-D7...    Samsung  199.99   \n",
       "4  \"CLEAR CLEAN ESN\" Sprint EPIC 4G Galaxy SPH-D7...    Samsung  199.99   \n",
       "\n",
       "   Rating                                            Reviews  Review Votes  \n",
       "0       5  I feel so LUCKY to have found this used (phone...           1.0  \n",
       "1       4  nice phone, nice up grade from my pantach revu...           0.0  \n",
       "2       5                                       Very pleased           0.0  \n",
       "3       4  It works good but it goes slow sometimes but i...           0.0  \n",
       "4       4  Great phone to replace my lost phone. The only...           0.0  "
      ]
     },
     "execution_count": 4,
     "metadata": {},
     "output_type": "execute_result"
    }
   ],
   "source": [
    "df.head()"
   ]
  },
  {
   "cell_type": "code",
   "execution_count": 5,
   "metadata": {
    "execution": {
     "iopub.execute_input": "2021-10-21T10:08:09.000553Z",
     "iopub.status.busy": "2021-10-21T10:08:08.999800Z",
     "iopub.status.idle": "2021-10-21T10:08:09.020086Z",
     "shell.execute_reply": "2021-10-21T10:08:09.019363Z",
     "shell.execute_reply.started": "2021-10-21T10:08:09.000511Z"
    }
   },
   "outputs": [],
   "source": [
    "#Dropping the the price and Review Votes columns as we dont want them\n",
    "df = df.drop(['Price', 'Review Votes'], axis=1)"
   ]
  },
  {
   "cell_type": "markdown",
   "metadata": {},
   "source": [
    "# EDA and Data Preprocessing"
   ]
  },
  {
   "cell_type": "code",
   "execution_count": 6,
   "metadata": {
    "execution": {
     "iopub.execute_input": "2021-10-21T10:08:09.160039Z",
     "iopub.status.busy": "2021-10-21T10:08:09.159759Z",
     "iopub.status.idle": "2021-10-21T10:08:09.287364Z",
     "shell.execute_reply": "2021-10-21T10:08:09.286242Z",
     "shell.execute_reply.started": "2021-10-21T10:08:09.160001Z"
    }
   },
   "outputs": [
    {
     "data": {
      "text/plain": [
       "Product Name        0\n",
       "Brand Name      65171\n",
       "Rating              0\n",
       "Reviews            62\n",
       "dtype: int64"
      ]
     },
     "execution_count": 6,
     "metadata": {},
     "output_type": "execute_result"
    }
   ],
   "source": [
    "df.isnull().sum()"
   ]
  },
  {
   "cell_type": "markdown",
   "metadata": {},
   "source": [
    "We can see that there are 65171 null values in the dataset so we replaced  them the \"Notknown\" value"
   ]
  },
  {
   "cell_type": "code",
   "execution_count": 7,
   "metadata": {
    "execution": {
     "iopub.execute_input": "2021-10-21T10:08:09.289111Z",
     "iopub.status.busy": "2021-10-21T10:08:09.288841Z",
     "iopub.status.idle": "2021-10-21T10:08:09.332173Z",
     "shell.execute_reply": "2021-10-21T10:08:09.331375Z",
     "shell.execute_reply.started": "2021-10-21T10:08:09.289076Z"
    }
   },
   "outputs": [],
   "source": [
    "df['Brand Name'].fillna('Notknown', inplace = True)"
   ]
  },
  {
   "cell_type": "code",
   "execution_count": 8,
   "metadata": {},
   "outputs": [
    {
     "data": {
      "text/plain": [
       "Product Name     0\n",
       "Brand Name       0\n",
       "Rating           0\n",
       "Reviews         62\n",
       "dtype: int64"
      ]
     },
     "execution_count": 8,
     "metadata": {},
     "output_type": "execute_result"
    }
   ],
   "source": [
    "df.isnull().sum()"
   ]
  },
  {
   "cell_type": "code",
   "execution_count": 9,
   "metadata": {
    "execution": {
     "iopub.execute_input": "2021-10-21T10:08:09.333976Z",
     "iopub.status.busy": "2021-10-21T10:08:09.333592Z",
     "iopub.status.idle": "2021-10-21T10:08:09.536328Z",
     "shell.execute_reply": "2021-10-21T10:08:09.535640Z",
     "shell.execute_reply.started": "2021-10-21T10:08:09.333936Z"
    }
   },
   "outputs": [
    {
     "data": {
      "text/plain": [
       "<AxesSubplot:>"
      ]
     },
     "execution_count": 9,
     "metadata": {},
     "output_type": "execute_result"
    },
    {
     "data": {
      "image/png": "[encoded data removed]",
      "text/plain": [
       "<Figure size 640x480 with 1 Axes>"
      ]
     },
     "metadata": {},
     "output_type": "display_data"
    }
   ],
   "source": [
    "df['Rating'].value_counts().plot.bar(color='Magenta')"
   ]
  },
  {
   "cell_type": "code",
   "execution_count": 10,
   "metadata": {},
   "outputs": [],
   "source": [
    "def get_sentiment(rating):\n",
    "    if rating >= 3:\n",
    "        return 1\n",
    "    else:\n",
    "        return 0\n",
    "\n",
    "df['sentiments'] = df['Rating'].apply(get_sentiment)"
   ]
  },
  {
   "cell_type": "markdown",
   "metadata": {},
   "source": [
    "the above function will turn the ratings greater than 3 into 1 and remaining as 0"
   ]
  },
  {
   "cell_type": "code",
   "execution_count": 11,
   "metadata": {
    "execution": {
     "iopub.execute_input": "2021-10-21T10:15:16.345621Z",
     "iopub.status.busy": "2021-10-21T10:15:16.344939Z",
     "iopub.status.idle": "2021-10-21T10:15:16.596829Z",
     "shell.execute_reply": "2021-10-21T10:15:16.595952Z",
     "shell.execute_reply.started": "2021-10-21T10:15:16.345569Z"
    }
   },
   "outputs": [
    {
     "name": "stdout",
     "output_type": "stream",
     "text": [
      "1    316762\n",
      "0     97078\n",
      "Name: sentiments, dtype: int64\n"
     ]
    },
    {
     "data": {
      "text/plain": [
       "<AxesSubplot:>"
      ]
     },
     "execution_count": 11,
     "metadata": {},
     "output_type": "execute_result"
    },
    {
     "data": {
      "image/png": "[encoded data removed]",
      "text/plain": [
       "<Figure size 640x480 with 1 Axes>"
      ]
     },
     "metadata": {},
     "output_type": "display_data"
    }
   ],
   "source": [
    "print(df['sentiments'].value_counts())\n",
    "df['sentiments'].value_counts().plot.bar(color='Magenta')"
   ]
  },
  {
   "cell_type": "markdown",
   "metadata": {},
   "source": [
    "# Separate Dependent and Idependent Features"
   ]
  },
  {
   "cell_type": "code",
   "execution_count": 11,
   "metadata": {},
   "outputs": [],
   "source": [
    "# Splitting the data into independent and dependent features\n",
    "y = df.loc[:, 'sentiments']\n",
    "X = df.drop('sentiments', axis=1)"
   ]
  },
  {
   "cell_type": "markdown",
   "metadata": {},
   "source": [
    "# Porter Stemmer\n",
    "Change the words into its root words"
   ]
  },
  {
   "cell_type": "code",
   "execution_count": 12,
   "metadata": {
    "execution": {
     "iopub.execute_input": "2021-10-21T10:27:15.721267Z",
     "iopub.status.busy": "2021-10-21T10:27:15.720688Z",
     "iopub.status.idle": "2021-10-21T10:27:15.756407Z",
     "shell.execute_reply": "2021-10-21T10:27:15.755699Z",
     "shell.execute_reply.started": "2021-10-21T10:27:15.721227Z"
    }
   },
   "outputs": [
    {
     "name": "stderr",
     "output_type": "stream",
     "text": [
      "[nltk_data] Downloading package stopwords to\n",
      "[nltk_data]     C:\\Users\\Nagayelamarthi\\AppData\\Roaming\\nltk_data...\n",
      "[nltk_data]   Package stopwords is already up-to-date!\n"
     ]
    }
   ],
   "source": [
    "review_msgs = X.copy()\n",
    "nltk.download('stopwords')\n",
    "stopwords = set(stopwords.words('english')) "
   ]
  },
  {
   "cell_type": "code",
   "execution_count": 13,
   "metadata": {},
   "outputs": [],
   "source": [
    "p=PorterStemmer()\n",
    "processed_reviews = [ ' '.join([p.stem(word) for word in re.sub('[^a-zA-Z]', ' ', str(review)).lower().split() if word not in stopwords]) for review in review_msgs['Reviews']]"
   ]
  },
  {
   "cell_type": "code",
   "execution_count": 14,
   "metadata": {
    "execution": {
     "iopub.execute_input": "2021-10-21T10:37:28.148030Z",
     "iopub.status.busy": "2021-10-21T10:37:28.147083Z",
     "iopub.status.idle": "2021-10-21T10:37:28.156866Z",
     "shell.execute_reply": "2021-10-21T10:37:28.156099Z",
     "shell.execute_reply.started": "2021-10-21T10:37:28.147955Z"
    }
   },
   "outputs": [
    {
     "data": {
      "text/plain": [
       "'feel lucki found use phone us use hard phone line someon upgrad sold one son like old one final fell apart year want upgrad thank seller realli appreci honesti said use phone recommend seller highli would'"
      ]
     },
     "execution_count": 14,
     "metadata": {},
     "output_type": "execute_result"
    }
   ],
   "source": [
    "processed_reviews[0]"
   ]
  },
  {
   "cell_type": "markdown",
   "metadata": {},
   "source": [
    "# Tokenizing"
   ]
  },
  {
   "cell_type": "code",
   "execution_count": 15,
   "metadata": {
    "execution": {
     "iopub.execute_input": "2021-10-21T10:43:01.407761Z",
     "iopub.status.busy": "2021-10-21T10:43:01.407505Z",
     "iopub.status.idle": "2021-10-21T10:43:01.411793Z",
     "shell.execute_reply": "2021-10-21T10:43:01.410833Z",
     "shell.execute_reply.started": "2021-10-21T10:43:01.407733Z"
    }
   },
   "outputs": [],
   "source": [
    "Max_no_of_words = 50000\n",
    "length = 150"
   ]
  },
  {
   "cell_type": "code",
   "execution_count": 16,
   "metadata": {
    "execution": {
     "iopub.execute_input": "2021-10-21T10:39:55.538628Z",
     "iopub.status.busy": "2021-10-21T10:39:55.538374Z",
     "iopub.status.idle": "2021-10-21T10:40:03.876885Z",
     "shell.execute_reply": "2021-10-21T10:40:03.876068Z",
     "shell.execute_reply.started": "2021-10-21T10:39:55.538599Z"
    }
   },
   "outputs": [],
   "source": [
    "tokenizer = Tokenizer( num_words= Max_no_of_words, oov_token=\"<OOV>\")\n",
    "tokenizer.fit_on_texts(processed_reviews)"
   ]
  },
  {
   "cell_type": "markdown",
   "metadata": {},
   "source": [
    "# Embedding"
   ]
  },
  {
   "cell_type": "code",
   "execution_count": 17,
   "metadata": {},
   "outputs": [],
   "source": [
    "emb_space = 32"
   ]
  },
  {
   "cell_type": "code",
   "execution_count": 18,
   "metadata": {},
   "outputs": [
    {
     "name": "stderr",
     "output_type": "stream",
     "text": [
      "C:\\Users\\Nagayelamarthi\\AppData\\Local\\Programs\\Python\\Python37\\lib\\site-packages\\ipykernel_launcher.py:3: VisibleDeprecationWarning: Creating an ndarray from ragged nested sequences (which is a list-or-tuple of lists-or-tuples-or ndarrays with different lengths or shapes) is deprecated. If you meant to do this, you must specify 'dtype=object' when creating the ndarray.\n",
      "  This is separate from the ipykernel package so we can avoid doing imports until\n"
     ]
    },
    {
     "data": {
      "text/plain": [
       "array([ 117, 1543,  224,    4,    2,  185,    4,  220,    2,  382,  358,\n",
       "        208,  564,    7,  368,    8,  115,    7,  388,  977, 1036,  100,\n",
       "         39,  208,   82,   73,   21, 1065, 3083,  143,    4,    2,   56,\n",
       "         73,  372,   13,    0,    0,    0,    0,    0,    0,    0,    0,\n",
       "          0,    0,    0,    0,    0,    0,    0,    0,    0,    0,    0,\n",
       "          0,    0,    0,    0,    0,    0,    0,    0,    0,    0,    0,\n",
       "          0,    0,    0,    0,    0,    0,    0,    0,    0,    0,    0,\n",
       "          0,    0,    0,    0,    0,    0,    0,    0,    0,    0,    0,\n",
       "          0,    0,    0,    0,    0,    0,    0,    0,    0,    0,    0,\n",
       "          0,    0,    0,    0,    0,    0,    0,    0,    0,    0,    0,\n",
       "          0,    0,    0,    0,    0,    0,    0,    0,    0,    0,    0,\n",
       "          0,    0,    0,    0,    0,    0,    0,    0,    0,    0,    0,\n",
       "          0,    0,    0,    0,    0,    0,    0,    0,    0,    0,    0,\n",
       "          0,    0,    0,    0,    0,    0,    0])"
      ]
     },
     "execution_count": 18,
     "metadata": {},
     "output_type": "execute_result"
    }
   ],
   "source": [
    "emb_array = tokenizer.texts_to_sequences(processed_reviews)\n",
    "emb_array = pad_sequences(emb_array, maxlen=length, padding='post', truncating='post')\n",
    "emb_array = np.array(emb_array) \n",
    "emb_array[0]"
   ]
  },
  {
   "cell_type": "code",
   "execution_count": 19,
   "metadata": {
    "execution": {
     "iopub.execute_input": "2021-10-21T10:45:14.826564Z",
     "iopub.status.busy": "2021-10-21T10:45:14.825849Z",
     "iopub.status.idle": "2021-10-21T10:45:14.921111Z",
     "shell.execute_reply": "2021-10-21T10:45:14.920348Z",
     "shell.execute_reply.started": "2021-10-21T10:45:14.826529Z"
    }
   },
   "outputs": [],
   "source": [
    "X_final = np.array(emb_array)\n",
    "y_final = np.array(y)"
   ]
  },
  {
   "cell_type": "code",
   "execution_count": 20,
   "metadata": {
    "execution": {
     "iopub.execute_input": "2021-10-21T10:45:26.512256Z",
     "iopub.status.busy": "2021-10-21T10:45:26.511694Z",
     "iopub.status.idle": "2021-10-21T10:45:26.517635Z",
     "shell.execute_reply": "2021-10-21T10:45:26.516700Z",
     "shell.execute_reply.started": "2021-10-21T10:45:26.512214Z"
    }
   },
   "outputs": [
    {
     "data": {
      "text/plain": [
       "((413840, 150), (413840,))"
      ]
     },
     "execution_count": 20,
     "metadata": {},
     "output_type": "execute_result"
    }
   ],
   "source": [
    "X_final.shape, y_final.shape"
   ]
  },
  {
   "cell_type": "markdown",
   "metadata": {},
   "source": [
    "# Model Creation"
   ]
  },
  {
   "cell_type": "code",
   "execution_count": 21,
   "metadata": {
    "execution": {
     "iopub.execute_input": "2021-10-21T10:55:09.675438Z",
     "iopub.status.busy": "2021-10-21T10:55:09.674618Z",
     "iopub.status.idle": "2021-10-21T10:55:09.943923Z",
     "shell.execute_reply": "2021-10-21T10:55:09.943064Z",
     "shell.execute_reply.started": "2021-10-21T10:55:09.675383Z"
    }
   },
   "outputs": [
    {
     "name": "stdout",
     "output_type": "stream",
     "text": [
      "Model: \"sequential\"\n",
      "_________________________________________________________________\n",
      " Layer (type)                Output Shape              Param #   \n",
      "=================================================================\n",
      " embedding (Embedding)       (None, 150, 32)           1600000   \n",
      "                                                                 \n",
      " dropout (Dropout)           (None, 150, 32)           0         \n",
      "                                                                 \n",
      " lstm (LSTM)                 (None, 100)               53200     \n",
      "                                                                 \n",
      " dropout_1 (Dropout)         (None, 100)               0         \n",
      "                                                                 \n",
      " dense (Dense)               (None, 64)                6464      \n",
      "                                                                 \n",
      " dropout_2 (Dropout)         (None, 64)                0         \n",
      "                                                                 \n",
      " dense_1 (Dense)             (None, 32)                2080      \n",
      "                                                                 \n",
      " dropout_3 (Dropout)         (None, 32)                0         \n",
      "                                                                 \n",
      " dense_2 (Dense)             (None, 1)                 33        \n",
      "                                                                 \n",
      "=================================================================\n",
      "Total params: 1,661,777\n",
      "Trainable params: 1,661,777\n",
      "Non-trainable params: 0\n",
      "_________________________________________________________________\n",
      "None\n"
     ]
    }
   ],
   "source": [
    "from tensorflow.keras.layers import Dropout\n",
    "model = Sequential()\n",
    "model.add(Embedding(Max_no_of_words, emb_space, input_length=length))\n",
    "model.add(Dropout(0.33))\n",
    "model.add(LSTM(100))\n",
    "model.add(Dropout(0.33))\n",
    "model.add(Dense(64, activation='relu'))\n",
    "model.add(Dropout(0.33))\n",
    "model.add(Dense(32, activation='relu'))\n",
    "model.add(Dropout(0.33))\n",
    "model.add(Dense(1, activation='sigmoid'))\n",
    "model.compile(loss = 'binary_crossentropy', optimizer='adam', metrics = ['accuracy'])\n",
    "print(model.summary())"
   ]
  },
  {
   "cell_type": "markdown",
   "metadata": {},
   "source": [
    "# Split Data into Train and Test "
   ]
  },
  {
   "cell_type": "code",
   "execution_count": 22,
   "metadata": {
    "execution": {
     "iopub.execute_input": "2021-10-21T10:59:17.772982Z",
     "iopub.status.busy": "2021-10-21T10:59:17.772607Z",
     "iopub.status.idle": "2021-10-21T10:59:17.898386Z",
     "shell.execute_reply": "2021-10-21T10:59:17.897607Z",
     "shell.execute_reply.started": "2021-10-21T10:59:17.772945Z"
    }
   },
   "outputs": [],
   "source": [
    "from sklearn.model_selection import train_test_split\n",
    "X_train, X_test, y_train, y_test = train_test_split(X_final, y_final, test_size=0.33, random_state=42)"
   ]
  },
  {
   "cell_type": "markdown",
   "metadata": {},
   "source": [
    "# Model Training"
   ]
  },
  {
   "cell_type": "code",
   "execution_count": 23,
   "metadata": {
    "execution": {
     "iopub.execute_input": "2021-10-21T11:01:23.737755Z",
     "iopub.status.busy": "2021-10-21T11:01:23.737479Z",
     "iopub.status.idle": "2021-10-21T11:10:47.369425Z",
     "shell.execute_reply": "2021-10-21T11:10:47.368639Z",
     "shell.execute_reply.started": "2021-10-21T11:01:23.737724Z"
    }
   },
   "outputs": [
    {
     "name": "stdout",
     "output_type": "stream",
     "text": [
      "Epoch 1/10\n",
      "4333/4333 [==============================] - 471s 108ms/step - loss: 0.5483 - accuracy: 0.7657 - val_loss: 0.5450 - val_accuracy: 0.7649\n",
      "Epoch 2/10\n",
      "4333/4333 [==============================] - 453s 105ms/step - loss: 0.5425 - accuracy: 0.7668 - val_loss: 0.5445 - val_accuracy: 0.7646\n",
      "Epoch 3/10\n",
      "4333/4333 [==============================] - 441s 102ms/step - loss: 0.5281 - accuracy: 0.7701 - val_loss: 0.3430 - val_accuracy: 0.8490\n",
      "Epoch 4/10\n",
      "4333/4333 [==============================] - 441s 102ms/step - loss: 0.2598 - accuracy: 0.8959 - val_loss: 0.2159 - val_accuracy: 0.9153\n",
      "Epoch 5/10\n",
      "4333/4333 [==============================] - 448s 103ms/step - loss: 0.2089 - accuracy: 0.9203 - val_loss: 0.1987 - val_accuracy: 0.9221\n",
      "Epoch 6/10\n",
      "4333/4333 [==============================] - 461s 106ms/step - loss: 0.1860 - accuracy: 0.9299 - val_loss: 0.1849 - val_accuracy: 0.9290\n",
      "Epoch 7/10\n",
      "4333/4333 [==============================] - 475s 110ms/step - loss: 0.1705 - accuracy: 0.9364 - val_loss: 0.1783 - val_accuracy: 0.9311\n",
      "Epoch 8/10\n",
      "4333/4333 [==============================] - 476s 110ms/step - loss: 0.1574 - accuracy: 0.9418 - val_loss: 0.1757 - val_accuracy: 0.9335\n",
      "Epoch 9/10\n",
      "4333/4333 [==============================] - 472s 109ms/step - loss: 0.1477 - accuracy: 0.9455 - val_loss: 0.1745 - val_accuracy: 0.9356\n",
      "Epoch 10/10\n",
      "4333/4333 [==============================] - 479s 111ms/step - loss: 0.1392 - accuracy: 0.9485 - val_loss: 0.1692 - val_accuracy: 0.9386\n"
     ]
    },
    {
     "data": {
      "text/plain": [
       "<keras.callbacks.History at 0x1a2a29098c8>"
      ]
     },
     "execution_count": 23,
     "metadata": {},
     "output_type": "execute_result"
    }
   ],
   "source": [
    "model.fit(X_train, y_train, validation_data=(X_test, y_test), epochs = 10, batch_size=64)"
   ]
  },
  {
   "cell_type": "markdown",
   "metadata": {},
   "source": [
    "# Performance Metrics and Accuracy"
   ]
  },
  {
   "cell_type": "code",
   "execution_count": 24,
   "metadata": {
    "execution": {
     "iopub.execute_input": "2021-10-21T11:12:21.792719Z",
     "iopub.status.busy": "2021-10-21T11:12:21.792068Z",
     "iopub.status.idle": "2021-10-21T11:12:42.731630Z",
     "shell.execute_reply": "2021-10-21T11:12:42.730837Z",
     "shell.execute_reply.started": "2021-10-21T11:12:21.792675Z"
    }
   },
   "outputs": [
    {
     "name": "stdout",
     "output_type": "stream",
     "text": [
      "4268/4268 [==============================] - 67s 16ms/step\n"
     ]
    }
   ],
   "source": [
    "y_predict = ((model.predict(X_test)>0.5).astype('int32'))#getting test accuracy"
   ]
  },
  {
   "cell_type": "markdown",
   "metadata": {},
   "source": [
    "# **Confusion Matrix**"
   ]
  },
  {
   "cell_type": "code",
   "execution_count": 25,
   "metadata": {
    "execution": {
     "iopub.execute_input": "2021-10-21T11:13:17.166620Z",
     "iopub.status.busy": "2021-10-21T11:13:17.166258Z",
     "iopub.status.idle": "2021-10-21T11:13:17.447718Z",
     "shell.execute_reply": "2021-10-21T11:13:17.446849Z",
     "shell.execute_reply.started": "2021-10-21T11:13:17.166576Z"
    }
   },
   "outputs": [
    {
     "data": {
      "text/plain": [
       "array([[ 28151,   4000],\n",
       "       [  4381, 100036]], dtype=int64)"
      ]
     },
     "execution_count": 25,
     "metadata": {},
     "output_type": "execute_result"
    }
   ],
   "source": [
    "from sklearn.metrics import confusion_matrix\n",
    "confusion_matrix(y_test, y_predict)"
   ]
  },
  {
   "cell_type": "markdown",
   "metadata": {},
   "source": [
    "# **Accuracy Score**"
   ]
  },
  {
   "cell_type": "code",
   "execution_count": 26,
   "metadata": {
    "execution": {
     "iopub.execute_input": "2021-10-21T11:13:52.525501Z",
     "iopub.status.busy": "2021-10-21T11:13:52.524796Z",
     "iopub.status.idle": "2021-10-21T11:13:52.542426Z",
     "shell.execute_reply": "2021-10-21T11:13:52.541358Z",
     "shell.execute_reply.started": "2021-10-21T11:13:52.525463Z"
    }
   },
   "outputs": [
    {
     "data": {
      "text/plain": [
       "0.9386313045515787"
      ]
     },
     "execution_count": 26,
     "metadata": {},
     "output_type": "execute_result"
    }
   ],
   "source": [
    "from sklearn.metrics import accuracy_score\n",
    "accuracy_score(y_test, y_predict)"
   ]
  },
  {
   "cell_type": "markdown",
   "metadata": {},
   "source": [
    "Checking the precision, recall , F1 score to check the performance of the model"
   ]
  },
  {
   "cell_type": "code",
   "execution_count": 27,
   "metadata": {},
   "outputs": [
    {
     "name": "stdout",
     "output_type": "stream",
     "text": [
      "Precision: 0.96\n",
      "Recall: 0.96\n",
      "F1 Score: 0.96\n",
      "Accuracy: 0.94\n"
     ]
    }
   ],
   "source": [
    "from sklearn.metrics import precision_score, recall_score, f1_score, accuracy_score\n",
    "\n",
    "# Calculate precision, recall, F1 score, and accuracy\n",
    "precision = precision_score(y_test, y_predict)\n",
    "recall = recall_score(y_test, y_predict)\n",
    "f1 = f1_score(y_test, y_predict)\n",
    "accuracy = accuracy_score(y_test, y_predict)\n",
    "\n",
    "# Print the results\n",
    "print(\"Precision: {:.2f}\".format(precision))\n",
    "print(\"Recall: {:.2f}\".format(recall))\n",
    "print(\"F1 Score: {:.2f}\".format(f1))\n",
    "print(\"Accuracy: {:.2f}\".format(accuracy))"
   ]
  },
  {
   "cell_type": "markdown",
   "metadata": {},
   "source": [
    "From the values of above metrics it is clear that the model is performing good"
   ]
  }
 ],
 "metadata": {
  "kernelspec": {
   "display_name": "Python 3 (ipykernel)",
   "language": "python",
   "name": "python3"
  },
  "language_info": {
   "codemirror_mode": {
    "name": "ipython",
    "version": 3
   },
   "file_extension": ".py",
   "mimetype": "text/x-python",
   "name": "python",
   "nbconvert_exporter": "python",
   "pygments_lexer": "ipython3",
   "version": "3.12.3"
  }
 },
 "nbformat": 4,
 "nbformat_minor": 4
}
